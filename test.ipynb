{
 "cells": [
  {
   "cell_type": "code",
   "execution_count": 1,
   "metadata": {},
   "outputs": [],
   "source": [
    "from newsapi import NewsAPI\n",
    "API_KEY = \"0bddc92853384093a6bdfecd9f207082\"\n",
    "news_client = NewsAPI(API_KEY)"
   ]
  },
  {
   "cell_type": "code",
   "execution_count": 2,
   "metadata": {},
   "outputs": [
    {
     "data": {
      "text/plain": [
       "['business',\n",
       " 'entertainment',\n",
       " 'general',\n",
       " 'health',\n",
       " 'science',\n",
       " 'sports',\n",
       " 'technology']"
      ]
     },
     "execution_count": 2,
     "metadata": {},
     "output_type": "execute_result"
    }
   ],
   "source": [
    "news_client.CATEGORIES"
   ]
  },
  {
   "cell_type": "code",
   "execution_count": 3,
   "metadata": {},
   "outputs": [],
   "source": [
    "topics = lambda query: news_client.get_everything(query=query, language=\"en\", sort_by=\"publishedAt\")\n",
    "headlines = news_client.get_top_headlines(country=\"in\")\n",
    "sources = news_client.get_sources(country='in')"
   ]
  },
  {
   "cell_type": "code",
   "execution_count": 5,
   "metadata": {},
   "outputs": [
    {
     "data": {
      "text/plain": [
       "{'status': 'ok',\n",
       " 'totalResults': 8,\n",
       " 'articles': [{'source': {'id': None, 'name': 'MediaNama.com'},\n",
       "   'author': 'Kamya Pandey',\n",
       "   'title': 'Event announcement: ‘Governing the AI Ecosystem’, December 11, Bangalore',\n",
       "   'description': 'After an engaging discussion in Delhi, MediaNama invites you to attend the second edition of our roundtable on ‘Governing the…\\nThe post Event announcement: ‘Governing the AI Ecosystem’, December 11, Bangalore appeared first on MEDIANAMA.',\n",
       "   'url': 'https://www.medianama.com/2024/11/223-event-announcement-governing-ai-ecosystem-december-11-bangalore/',\n",
       "   'urlToImage': 'https://www.medianama.com/wp-content/uploads/2024/11/1280X720-Dec-11-2024.png',\n",
       "   'publishedAt': '2024-11-12T09:10:35Z',\n",
       "   'content': 'After an engaging discussion in Delhi, MediaNama invites you to attend the second edition of our roundtable on Governing the AI Ecosystem, this time in Bangalore. \\r\\nHow should India regulate a transf… [+4658 chars]'},\n",
       "  {'source': {'id': 'the-times-of-india', 'name': 'The Times of India'},\n",
       "   'author': 'ET Online',\n",
       "   'title': 'Manipur Violence: 10 key points explaining why the state is burning',\n",
       "   'description': 'Manipur remains deeply divided along ethnic lines, with violence escalating between the Meitei community in the valley and the Kuki tribals in the hills. Since May, over 250 people have died and 60,000 displaced in clashes over quotas and government grants. R…',\n",
       "   'url': 'https://economictimes.indiatimes.com/news/india/manipur-violence-10-key-points-explaining-why-the-state-is-burning/articleshow/115380798.cms',\n",
       "   'urlToImage': 'https://img.etimg.com/thumb/msid-115381024,width-1200,height-630,imgsize-201902,overlay-economictimes/articleshow.jpg',\n",
       "   'publishedAt': '2024-11-17T07:59:21Z',\n",
       "   'content': \"Manipur has become divided into two ethnic enclaves: a valley controlled by the Meiteis and hills dominated by the Kukis. The areas are separated by a stretch of no-man's land monitored by federal pa… [+5212 chars]\"},\n",
       "  {'source': {'id': 'the-times-of-india', 'name': 'The Times of India'},\n",
       "   'author': 'ETtech',\n",
       "   'title': 'ED shifts cursor to Amazon, Flipkart; Nithin Kamath interview',\n",
       "   'description': 'Happy Monday! The Enforcement Directorate (ED) has narrowed its probes focus on ecommerce firms. This and more in todays ETtech Morning Dispatch.',\n",
       "   'url': 'https://economictimes.indiatimes.com/tech/newsletters/morning-dispatch/ed-shifts-cursor-to-amazon-flipkart-nithin-kamath-interview/articleshow/115398209.cms',\n",
       "   'urlToImage': 'https://img.etimg.com/thumb/msid-115398209,width-1070,height-580,imgsize-40424,overlay-ettech/editionshow.jpg',\n",
       "   'publishedAt': '2024-11-18T01:27:38Z',\n",
       "   'content': 'Happy Monday! The Enforcement Directorate (ED) has narrowed its probes focus on ecommerce firms. This and more in todays ETtech Morning Dispatch.Also in the letter:AI domain tradeEthics code for AI f… [+5221 chars]'},\n",
       "  {'source': {'id': 'the-times-of-india', 'name': 'The Times of India'},\n",
       "   'author': 'ETtech',\n",
       "   'title': 'Rs 9k-crore bonanza for Swiggy employees; crackdown on pro-Khalistan content',\n",
       "   'description': \"Happy Wednesday! Swiggy's employees are all set for big Esop gains as the company lists on the bourses today. This and more in today's ETtech Morning Dispatch.\",\n",
       "   'url': 'https://economictimes.indiatimes.com/tech/newsletters/morning-dispatch/rs-9k-crore-bonanza-for-swiggy-employees-crackdown-on-pro-khalistan-content/articleshow/115235286.cms',\n",
       "   'urlToImage': 'https://img.etimg.com/thumb/msid-115235286,width-1070,height-580,imgsize-104952,overlay-ettech/editionshow.jpg',\n",
       "   'publishedAt': '2024-11-13T01:28:13Z',\n",
       "   'content': \"Happy Wednesday! Swiggy's employees are all set for big Esop gains as the company lists on the bourses today. This and more in today's ETtech Morning Dispatch. Also in the letter:Nykaa Q2 financialsS… [+7278 chars]\"},\n",
       "  {'source': {'id': 'the-times-of-india', 'name': 'The Times of India'},\n",
       "   'author': 'ETtech',\n",
       "   'title': 'Lenskart’s rising valuation; consumption slump at new-age firms',\n",
       "   'description': 'Happy Tuesday! Lenskart is closing a new funding round that could significantly boost its valuation, sources tell us. This and more in today’s ETtech Morning Dispatch.',\n",
       "   'url': 'https://economictimes.indiatimes.com/tech/newsletters/morning-dispatch/lenskarts-rising-valuation-consumption-slump-at-new-age-firms/articleshow/115432431.cms',\n",
       "   'urlToImage': 'https://img.etimg.com/thumb/msid-115432431,width-1070,height-580,imgsize-10838,overlay-ettech/editionshow.jpg',\n",
       "   'publishedAt': '2024-11-19T01:43:11Z',\n",
       "   'content': 'Happy Tuesday! Lenskart is closing a new funding round that could significantly boost its valuation, sources tell us. This and more in todays ETtech Morning Dispatch.Also in the letter:Smog slows eco… [+6903 chars]'},\n",
       "  {'source': {'id': None, 'name': 'BusinessLine'},\n",
       "   'author': 'KS Badri Narayanan, Team BL',\n",
       "   'title': 'Share Markets Highlights November 21, 2024: Adani Group stocks nosedive; Sensex, Nifty trade lower as volatility persists',\n",
       "   'description': 'Sensex, Nifty, updates on November 21, 2024: Indian benchmark indices opened lower on Thursday, following weak global cues. The Sensex dropped 425.83 points or 0.55 per cent to 77,152.55, and the Nifty declined 156.50 points or 0.67 per cent to 23,362.00. Top…',\n",
       "   'url': 'https://www.thehindubusinessline.com/markets/stock-market-highlights-21-november-2024/article68890414.ece',\n",
       "   'urlToImage': 'https://bl-i.thgim.com/public/incoming/8j8jnm/article68892353.ece/alternates/LANDSCAPE_1200/Stock%20market%20live%20today.jpg',\n",
       "   'publishedAt': '2024-11-21T01:34:29Z',\n",
       "   'content': '<li></li>\\r\\nNovember 21, 2024 15:42Stock Market Live Today: Adani stocks crashed up to 25% after Gautam Adanis indictment\\r\\nAdani Enterprises (-23.44%)\\xa0\\r\\nAdani Energy Solutions (-20%)\\xa0\\r\\nAdani Green Ene… [+55267 chars]'},\n",
       "  {'source': {'id': None, 'name': 'Mother Jones'},\n",
       "   'author': 'By Vince Beiser; Photography by Oyewole Lawal',\n",
       "   'title': 'A $60 Billion-a-Year Climate Solution Is Sitting in Our Junk Drawers',\n",
       "   'description': 'I meet Baba Anwar in a crowded, chaotic market in the city of Lagos, Nigeria. He claims he’s in his early 20s, but he looks 15 or 16. Maybe all of 5 feet tall, he’s wearing plastic flip-flops, shorts, and a filthy “Surf Los Angeles” T-shirt and clutching a pr…',\n",
       "   'url': 'https://www.motherjones.com/environment/2024/11/demand-critical-metals-e-waste-recycling-clean-energy-climate-vince-beiser-book-power-metal/',\n",
       "   'urlToImage': 'https://www.motherjones.com/wp-content/uploads/2024/11/Oyewole3062-master.jpg?w=1200&h=630&crop=1',\n",
       "   'publishedAt': '2024-11-18T11:00:00Z',\n",
       "   'content': 'I meet Baba Anwar in a crowded, chaotic market in the city of Lagos, Nigeria. He claims hes in his early 20s, but he looks 15 or 16. Maybe all of 5 feet tall, hes wearing plastic flip-flops, shorts, … [+39565 chars]'},\n",
       "  {'source': {'id': None, 'name': 'New Zealand Herald'},\n",
       "   'author': 'Ryan Bridge',\n",
       "   'title': 'Credit card fraud and a cashless society: What happens when banking tech fails – Ryan Bridge',\n",
       "   'description': \"OPINION: Technology is like legs. Excellent when working but crippling when they're not.\",\n",
       "   'url': 'https://www.nzherald.co.nz/nz/credit-card-fraud-and-a-cashless-society-what-happens-when-banking-tech-fails-ryan-bridge/O4MSBBWGHNFLBK2FAYOJGURXRE/',\n",
       "   'urlToImage': 'https://www.nzherald.co.nz/resizer/v2/REQKUJKK7FEUXLNBNYSSUL7PTQ.jpg?auth=b69498934c4c29c76f6175fad232829bf84379817c891e453da40e199bf27de1&width=1200&height=675&quality=70&smart=true',\n",
       "   'publishedAt': '2024-11-05T16:00:00Z',\n",
       "   'content': 'Before you go thinking Im one of those suckers who replied to a text message from the IRDs Delhi office or Fedexs headquartersnext door to the Kremlin, it was far more mysterious (and nefarious) than… [+3625 chars]'}]}"
      ]
     },
     "execution_count": 5,
     "metadata": {},
     "output_type": "execute_result"
    }
   ],
   "source": [
    "topics(\"whats happening in delhi\")"
   ]
  },
  {
   "cell_type": "code",
   "execution_count": 7,
   "metadata": {},
   "outputs": [
    {
     "data": {
      "text/plain": [
       "{'status': 'ok',\n",
       " 'sources': [{'id': 'google-news-in',\n",
       "   'name': 'Google News (India)',\n",
       "   'description': 'Comprehensive, up-to-date India news coverage, aggregated from sources all over the world by Google News.',\n",
       "   'url': 'https://news.google.com',\n",
       "   'category': 'general',\n",
       "   'language': 'en',\n",
       "   'country': 'in'},\n",
       "  {'id': 'the-hindu',\n",
       "   'name': 'The Hindu',\n",
       "   'description': \"The Hindu. latest news, analysis, comment, in-depth coverage of politics, business, sport, environment, cinema and arts from India's national newspaper.\",\n",
       "   'url': 'http://www.thehindu.com',\n",
       "   'category': 'general',\n",
       "   'language': 'en',\n",
       "   'country': 'in'},\n",
       "  {'id': 'the-times-of-india',\n",
       "   'name': 'The Times of India',\n",
       "   'description': 'Times of India brings the Latest News and Top Breaking headlines on Politics and Current Affairs in India and around the World, Sports, Business, Bollywood News and Entertainment, Science, Technology, Health and Fitness news, Cricket and opinions from leading columnists.',\n",
       "   'url': 'http://timesofindia.indiatimes.com',\n",
       "   'category': 'general',\n",
       "   'language': 'en',\n",
       "   'country': 'in'}]}"
      ]
     },
     "execution_count": 7,
     "metadata": {},
     "output_type": "execute_result"
    }
   ],
   "source": [
    "sources"
   ]
  },
  {
   "cell_type": "markdown",
   "metadata": {},
   "source": [
    "# Articles have a 24 hour delay on free plan"
   ]
  },
  {
   "cell_type": "code",
   "execution_count": 16,
   "metadata": {},
   "outputs": [],
   "source": [
    "search_news = lambda query: news_client.get_everything(query=query, \n",
    "                                                  language=\"en\", \n",
    "                                                  sortBy= \"relevancy\",#\"publishedAt\", # relevancy, popularity\n",
    "                                                  pageSize=10).get('articles')\n",
    "# from , to: 2024-11-25T18:42:14\n",
    "news = search_news(query=\"openai latest model launch\")"
   ]
  },
  {
   "cell_type": "code",
   "execution_count": null,
   "metadata": {},
   "outputs": [
    {
     "name": "stdout",
     "output_type": "stream",
     "text": [
      "What you need to know\n",
      "<ul><li>OpenAI debuted a new feature called ChatGPT Search to take on Google.</li><li>ChatGPT Search lets users engage in conversation with its AI to find quick, relevant infor… [+2999 chars]\n"
     ]
    },
    {
     "ename": "",
     "evalue": "",
     "output_type": "error",
     "traceback": [
      "\u001b[1;31mThe Kernel crashed while executing code in the current cell or a previous cell. \n",
      "\u001b[1;31mPlease review the code in the cell(s) to identify a possible cause of the failure. \n",
      "\u001b[1;31mClick <a href='https://aka.ms/vscodeJupyterKernelCrash'>here</a> for more info. \n",
      "\u001b[1;31mView Jupyter <a href='command:jupyter.viewOutput'>log</a> for further details."
     ]
    }
   ],
   "source": [
    "print(news[0].get('content'))"
   ]
  }
 ],
 "metadata": {
  "kernelspec": {
   "display_name": ".venv",
   "language": "python",
   "name": "python3"
  },
  "language_info": {
   "codemirror_mode": {
    "name": "ipython",
    "version": 3
   },
   "file_extension": ".py",
   "mimetype": "text/x-python",
   "name": "python",
   "nbconvert_exporter": "python",
   "pygments_lexer": "ipython3",
   "version": "3.12.0"
  }
 },
 "nbformat": 4,
 "nbformat_minor": 2
}
